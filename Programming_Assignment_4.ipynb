{
  "nbformat": 4,
  "nbformat_minor": 0,
  "metadata": {
    "colab": {
      "provenance": []
    },
    "kernelspec": {
      "name": "python3",
      "display_name": "Python 3"
    },
    "language_info": {
      "name": "python"
    }
  },
  "cells": [
    {
      "cell_type": "code",
      "execution_count": null,
      "metadata": {
        "id": "Oa3wfWaAvsat"
      },
      "outputs": [],
      "source": [
        "# Programming_Assignment_4 by Emmanuel"
      ]
    },
    {
      "cell_type": "markdown",
      "source": [
        "1. Write a Python Program to Find the Factorial of a Number?\n",
        "2. Write a Python Program to Display the multiplication Table?\n",
        "3. Write a Python Program to Print the Fibonacci sequence?\n",
        "4. Write a Python Program to Check Armstrong Number?\n",
        "5. Write a Python Program to Find Armstrong Number in an Interval?\n",
        "6. Write a Python Program to Find the Sum of Natural Numbers?"
      ],
      "metadata": {
        "id": "xuZkNIytvtfq"
      }
    },
    {
      "cell_type": "code",
      "source": [
        "# 1 Write a Python Program to Find the Factorial of a Number?\n",
        "b=1\n",
        "a=int(input('enter your number '))\n",
        "c=1\n",
        "while c<=a:\n",
        "    b*=c\n",
        "    c+=1\n",
        "print('factorial',a,'is',b)\n"
      ],
      "metadata": {
        "colab": {
          "base_uri": "https://localhost:8080/"
        },
        "id": "WOUUWf8yvuPJ",
        "outputId": "70517026-a976-413f-dbeb-0ee0da1d44fb"
      },
      "execution_count": 2,
      "outputs": [
        {
          "output_type": "stream",
          "name": "stdout",
          "text": [
            "enter your number 4\n",
            "factorial 4 is 24\n"
          ]
        }
      ]
    },
    {
      "cell_type": "code",
      "source": [
        "# 2.Write a Python Program to Display the multiplication Table?\n",
        "num = 9\n",
        "\n",
        "# To take input from the user\n",
        "# num = int(input(\"Display multiplication table of? \"))\n",
        "\n",
        "# Iterate 10 times from i = 1 to 10 By AyushG\n",
        "for i in range(1, 11):\n",
        "   print(num, 'x', i, '=', num*i)"
      ],
      "metadata": {
        "colab": {
          "base_uri": "https://localhost:8080/"
        },
        "id": "ckbCPJTtwHqw",
        "outputId": "96280604-ce85-491b-ea99-50d5b740286d"
      },
      "execution_count": 5,
      "outputs": [
        {
          "output_type": "stream",
          "name": "stdout",
          "text": [
            "9 x 1 = 9\n",
            "9 x 2 = 18\n",
            "9 x 3 = 27\n",
            "9 x 4 = 36\n",
            "9 x 5 = 45\n",
            "9 x 6 = 54\n",
            "9 x 7 = 63\n",
            "9 x 8 = 72\n",
            "9 x 9 = 81\n",
            "9 x 10 = 90\n"
          ]
        }
      ]
    },
    {
      "cell_type": "code",
      "source": [
        "# 3.Write a Python Program to Print the Fibonacci sequence?\n",
        "def fib(n):\n",
        "    a, b = 0, 1\n",
        "    while a < n:\n",
        "        print(a, end=' ')\n",
        "        a, b = b, a+b\n",
        "    print()\n",
        "\n",
        "\n",
        "fib(1000)"
      ],
      "metadata": {
        "colab": {
          "base_uri": "https://localhost:8080/"
        },
        "id": "aHRX41LMwbxZ",
        "outputId": "da0304dc-cf44-4d2e-de70-4ec5a6a60723"
      },
      "execution_count": 9,
      "outputs": [
        {
          "output_type": "stream",
          "name": "stdout",
          "text": [
            "0 1 1 2 3 5 8 13 21 34 55 89 144 233 377 610 987 \n"
          ]
        }
      ]
    },
    {
      "cell_type": "code",
      "source": [
        "#4. Write a Python Program to Check Armstrong Number?\n",
        "number = 153\n",
        "temp = number\n",
        "add_sum = 0\n",
        "while temp!=0:\n",
        "    k = temp%10\n",
        "    add_sum +=k*k*k\n",
        "    temp = temp//10\n",
        "if add_sum==number:\n",
        "    print('Armstrong Number')\n",
        "else:\n",
        "    print('Not a Armstrong Number')"
      ],
      "metadata": {
        "colab": {
          "base_uri": "https://localhost:8080/"
        },
        "id": "YLrMeVozxCSY",
        "outputId": "55cdc9b1-ef6e-40dd-b8c4-9aa3fafa4969"
      },
      "execution_count": 12,
      "outputs": [
        {
          "output_type": "stream",
          "name": "stdout",
          "text": [
            "Armstrong Number\n"
          ]
        }
      ]
    },
    {
      "cell_type": "code",
      "source": [
        "# 5.Write a Python Program to Find the Sum of Natural Numbers?\n",
        "n=int(input('no. :'))\n",
        "gross=0\n",
        "no=0\n",
        "while no < n:\n",
        "    no+=1\n",
        "    gross+=no\n",
        "    print('no.', no ,'sum of n', gross)\n",
        "print('no.',n,'total',gross)"
      ],
      "metadata": {
        "colab": {
          "base_uri": "https://localhost:8080/"
        },
        "id": "-LWYDkXaxCbX",
        "outputId": "1ed28d37-5c5b-4894-d41b-eff336b88aac"
      },
      "execution_count": 13,
      "outputs": [
        {
          "output_type": "stream",
          "name": "stdout",
          "text": [
            "no. :4\n",
            "no. 1 sum of n 1\n",
            "no. 2 sum of n 3\n",
            "no. 3 sum of n 6\n",
            "no. 4 sum of n 10\n",
            "no. 4 total 10\n"
          ]
        }
      ]
    },
    {
      "cell_type": "code",
      "source": [],
      "metadata": {
        "id": "uEnQkb2TwnP_"
      },
      "execution_count": null,
      "outputs": []
    }
  ]
}